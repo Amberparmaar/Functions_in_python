{
  "nbformat": 4,
  "nbformat_minor": 0,
  "metadata": {
    "colab": {
      "provenance": [],
      "authorship_tag": "ABX9TyPkE66KS0afvQhcUWeFgs1E",
      "include_colab_link": true
    },
    "kernelspec": {
      "name": "python3",
      "display_name": "Python 3"
    },
    "language_info": {
      "name": "python"
    }
  },
  "cells": [
    {
      "cell_type": "markdown",
      "metadata": {
        "id": "view-in-github",
        "colab_type": "text"
      },
      "source": [
        "<a href=\"https://colab.research.google.com/github/Amberparmaar/Functions_in_python/blob/main/Functions.ipynb\" target=\"_parent\"><img src=\"https://colab.research.google.com/assets/colab-badge.svg\" alt=\"Open In Colab\"/></a>"
      ]
    },
    {
      "cell_type": "markdown",
      "source": [
        "What is a Function?\n",
        "\n",
        "Python mein, function ek code ka block hota hai jo kisi specific kaam ko perform karta hai. Jab humein same code baar baar likhna parta hai, tou hum usay function mein daal dete hain aur phir jab zaroorat ho sirf function ko call kar lete hain.\n",
        "\n",
        "Function ke parts:\n",
        "def: Python mein function define karne ke liye def keyword use hota hai\n",
        "\n",
        "Function name: Function ka unique name\n",
        "\n",
        "Parameters: Function ke andar values lenay ke liye variables (optional)\n",
        "\n",
        "Body: Function ke andar ka code\n",
        "\n",
        "return: Function se value wapis bhejne ke liye (optional)\n",
        "\n",
        "\n",
        "Types of Python Functions\n",
        "1) Built-in functions\n",
        "\n",
        "Python's standard library includes number of built-in functions. Some of Python's built-in functions are print(), int(), len(), sum(), etc. These functions are always available, as they are loaded into computer's memory as soon as you start Python interpreter.\n",
        "\n",
        "2) Functions defined in built-in modules\n",
        "\n",
        "The standard library also bundles a number of modules. Each module defines a group of functions. These functions are not readily available. You need to import them into the memory from their respective modules.\n",
        "\n",
        "3) User-defined functions\n",
        "\n",
        "In addition to the built-in functions and functions in the built-in modules, you can also create your own functions. These functions are called user-defined functions.\n",
        "\n"
      ],
      "metadata": {
        "id": "FPgj83RqQf68"
      }
    },
    {
      "cell_type": "code",
      "source": [
        "# Function define kar rahe hain\n",
        "def function_ka_name(arguments):\n",
        "    # yahan pe function ka body hoti hai\n",
        "    # kuch kaam karna hota hai\n",
        "    return result  # (optional hai, agar kuch return karna ho)\n",
        "\n",
        "# Function call kar rahe hain\n",
        "function_ka_name(parameters)\n"
      ],
      "metadata": {
        "id": "ncfkZX1MQ8fd"
      },
      "execution_count": null,
      "outputs": []
    },
    {
      "cell_type": "code",
      "source": [
        "def add_numbers(a, b):\n",
        "    result = a + b\n",
        "    return result\n",
        "\n",
        "# function call\n",
        "print(add_numbers(5, 3))  # Output: 8\n"
      ],
      "metadata": {
        "colab": {
          "base_uri": "https://localhost:8080/"
        },
        "id": "RUwSmQw2R312",
        "outputId": "04b4bc74-b6a5-4c41-d5cd-55bd69500e88"
      },
      "execution_count": 1,
      "outputs": [
        {
          "output_type": "stream",
          "name": "stdout",
          "text": [
            "8\n"
          ]
        }
      ]
    },
    {
      "cell_type": "markdown",
      "source": [
        "arguments function define karte waqt likhte hain (parameters ka naam).\n",
        "\n",
        "parameters function call karte waqt dete hain (values jo bhej rahe ho)."
      ],
      "metadata": {
        "id": "XpLUChgnR576"
      }
    },
    {
      "cell_type": "markdown",
      "source": [
        "Arguments aur Parameters\n",
        "\n",
        "Python functions mein 5 qisam ke arguments hote hain:\n",
        "\n",
        "1. Positional Arguments:  (tarteeb se)\n",
        "\n",
        "Ye arguments function call ke waqt diye gaye order mein accept kiye jate hain. They are defined by placing a \"/\" in the function's parameter list after all positional-only parameters."
      ],
      "metadata": {
        "id": "4PJHVsj_R9W1"
      }
    },
    {
      "cell_type": "code",
      "source": [
        "def multiply(a, b):\n",
        "    return a * b\n",
        "\n",
        "result = multiply(3, 4)  # 3 'a' mein jayega, 4 'b' mein\n",
        "print(result)  # Output: 12"
      ],
      "metadata": {
        "colab": {
          "base_uri": "https://localhost:8080/"
        },
        "id": "SmX_g1YxTBPd",
        "outputId": "ad763aeb-7b26-42ad-a343-5f5e9d6eade1"
      },
      "execution_count": 2,
      "outputs": [
        {
          "output_type": "stream",
          "name": "stdout",
          "text": [
            "12\n"
          ]
        }
      ]
    },
    {
      "cell_type": "code",
      "source": [
        "def posFun(x, y, /, z):\n",
        "    print(x + y + z)\n",
        "\n",
        "print(\"Evaluating positional-only arguments: \")\n",
        "posFun(1, 2, z=3)\n",
        "\n",
        "# uncomment to see error\n",
        "#posFun(x=1, y=2, z=3)"
      ],
      "metadata": {
        "colab": {
          "base_uri": "https://localhost:8080/"
        },
        "id": "O_1o3QGPXyNL",
        "outputId": "cd19f29a-888c-49e6-87ea-1dc237029b82"
      },
      "execution_count": 8,
      "outputs": [
        {
          "output_type": "stream",
          "name": "stdout",
          "text": [
            "Evaluating positional-only arguments: \n",
            "6\n"
          ]
        }
      ]
    },
    {
      "cell_type": "code",
      "source": [
        "# Run to see error\n",
        "posFun(x=1, y=2, z=3)"
      ],
      "metadata": {
        "colab": {
          "base_uri": "https://localhost:8080/",
          "height": 158
        },
        "id": "h9FzXNKZX3Al",
        "outputId": "ed1ab6f2-31c5-4ea5-eef1-441905388dcc"
      },
      "execution_count": 9,
      "outputs": [
        {
          "output_type": "error",
          "ename": "TypeError",
          "evalue": "posFun() got some positional-only arguments passed as keyword arguments: 'x, y'",
          "traceback": [
            "\u001b[0;31m---------------------------------------------------------------------------\u001b[0m",
            "\u001b[0;31mTypeError\u001b[0m                                 Traceback (most recent call last)",
            "\u001b[0;32m<ipython-input-9-90cb35748f4a>\u001b[0m in \u001b[0;36m<cell line: 0>\u001b[0;34m()\u001b[0m\n\u001b[1;32m      1\u001b[0m \u001b[0;31m# Run to see error\u001b[0m\u001b[0;34m\u001b[0m\u001b[0;34m\u001b[0m\u001b[0m\n\u001b[0;32m----> 2\u001b[0;31m \u001b[0mposFun\u001b[0m\u001b[0;34m(\u001b[0m\u001b[0mx\u001b[0m\u001b[0;34m=\u001b[0m\u001b[0;36m1\u001b[0m\u001b[0;34m,\u001b[0m \u001b[0my\u001b[0m\u001b[0;34m=\u001b[0m\u001b[0;36m2\u001b[0m\u001b[0;34m,\u001b[0m \u001b[0mz\u001b[0m\u001b[0;34m=\u001b[0m\u001b[0;36m3\u001b[0m\u001b[0;34m)\u001b[0m\u001b[0;34m\u001b[0m\u001b[0;34m\u001b[0m\u001b[0m\n\u001b[0m",
            "\u001b[0;31mTypeError\u001b[0m: posFun() got some positional-only arguments passed as keyword arguments: 'x, y'"
          ]
        }
      ]
    },
    {
      "cell_type": "markdown",
      "source": [
        "2. Keyword Arguments (Naam Walay Arguments)\n",
        "\n",
        "Arguments ko parameter name ke sath pass kiya jata hai.\n",
        "\n",
        "Those arguments that must be specified by their name while calling the function is known as Keyword-only arguments. They are defined by placing an asterisk (\"*\") in the function's parameter list before any keyword-only parameters. This type of argument can only be passed to a function as a keyword argument, not a positional argument."
      ],
      "metadata": {
        "id": "tJTYI8dDTPZ3"
      }
    },
    {
      "cell_type": "code",
      "source": [
        "def student_info(name, age):\n",
        "    print(f\"Naam: {name}, Umar: {age}\")\n",
        "\n",
        "student_info(age=20, name=\"Ali\")  # Order matter nahi karta\n",
        "# Output: Naam: Ali, Umar: 20"
      ],
      "metadata": {
        "colab": {
          "base_uri": "https://localhost:8080/"
        },
        "id": "6XKoxUNDTTTP",
        "outputId": "dd573165-61b6-498b-e18a-9209212904bd"
      },
      "execution_count": 3,
      "outputs": [
        {
          "output_type": "stream",
          "name": "stdout",
          "text": [
            "Naam: Ali, Umar: 20\n"
          ]
        }
      ]
    },
    {
      "cell_type": "code",
      "source": [
        "def posFun(*, num1, num2, num3):\n",
        "    print(num1 * num2 * num3)\n",
        "\n",
        "print(\"Evaluating keyword-only arguments: \")\n",
        "posFun(num1=6, num2=8, num3=5)\n",
        "\n",
        "posFun(num3=6, num1=8, num2=5)\n",
        "\n",
        "\n",
        "# TypeError: posFun() takes 0 positional arguments but 3 were given\n",
        "#posFun(6, 8, 5)"
      ],
      "metadata": {
        "colab": {
          "base_uri": "https://localhost:8080/"
        },
        "id": "bt8ZNWjnYS3_",
        "outputId": "c08b95ed-a357-409e-858c-6f7661f50bdf"
      },
      "execution_count": 10,
      "outputs": [
        {
          "output_type": "stream",
          "name": "stdout",
          "text": [
            "Evaluating keyword-only arguments: \n",
            "240\n",
            "240\n"
          ]
        }
      ]
    },
    {
      "cell_type": "markdown",
      "source": [
        "3. Default Arguments (Default Qeematain)\n",
        "\n",
        "Agar argument pass na kiya jaye tou default value use hoti hai."
      ],
      "metadata": {
        "id": "2jO2r0f2TX0b"
      }
    },
    {
      "cell_type": "code",
      "source": [
        "def greet(name=\"Mehmaan\"):\n",
        "    print(f\"Salam, {name}!\")\n",
        "\n",
        "greet(\"Ahmed\")  # Output: Salam, Ahmed!\n",
        "greet()         # Output: Salam, Mehmaan!"
      ],
      "metadata": {
        "colab": {
          "base_uri": "https://localhost:8080/"
        },
        "id": "0HehsXjeTf3E",
        "outputId": "e992efa3-0245-4e68-f51f-fbacd64f3dce"
      },
      "execution_count": 4,
      "outputs": [
        {
          "output_type": "stream",
          "name": "stdout",
          "text": [
            "Salam, Ahmed!\n",
            "Salam, Mehmaan!\n"
          ]
        }
      ]
    },
    {
      "cell_type": "markdown",
      "source": [
        "4. Variable-length Arguments (*args)  (Arbitrary Arguments)\n",
        "\n",
        "Jab humein pata na ho ke kitne arguments aayenge."
      ],
      "metadata": {
        "id": "Y6j8as5dTj-g"
      }
    },
    {
      "cell_type": "code",
      "source": [
        "def sum_all(*numbers):\n",
        "    total = 0\n",
        "    for num in numbers:\n",
        "        total += num\n",
        "    return total\n",
        "\n",
        "print(sum_all(1, 2, 3))       # Output: 6\n",
        "print(sum_all(5, 10, 15, 20)) # Output: 50"
      ],
      "metadata": {
        "colab": {
          "base_uri": "https://localhost:8080/"
        },
        "id": "5-bn-PYVTtHb",
        "outputId": "f36efd05-1ea7-4745-cce6-3731a0afda54"
      },
      "execution_count": 5,
      "outputs": [
        {
          "output_type": "stream",
          "name": "stdout",
          "text": [
            "6\n",
            "50\n"
          ]
        }
      ]
    },
    {
      "cell_type": "markdown",
      "source": [
        "5. Keyword Variable-length Arguments (**kwargs)\n",
        "\n",
        "Key-value pairs ko as arguments accept karta hai."
      ],
      "metadata": {
        "id": "rrSNEF5FT-9r"
      }
    },
    {
      "cell_type": "code",
      "source": [
        "def user_profile(**details):\n",
        "    for key, value in details.items():\n",
        "        print(f\"{key}: {value}\")\n",
        "\n",
        "user_profile(name=\"Ali\", city=\"Karachi\", age=25)\n",
        "# Output:\n",
        "# name: Ali\n",
        "# city: Karachi\n",
        "# age: 25"
      ],
      "metadata": {
        "colab": {
          "base_uri": "https://localhost:8080/"
        },
        "id": "AEWU7lFSUKWC",
        "outputId": "be30ad2d-b908-45d5-ecc3-b8a94b28bf00"
      },
      "execution_count": 6,
      "outputs": [
        {
          "output_type": "stream",
          "name": "stdout",
          "text": [
            "name: Ali\n",
            "city: Karachi\n",
            "age: 25\n"
          ]
        }
      ]
    },
    {
      "cell_type": "markdown",
      "source": [
        "Combination of Arguments:"
      ],
      "metadata": {
        "id": "mKVmSz4_U4IH"
      }
    },
    {
      "cell_type": "code",
      "source": [
        "def mixed_args(a, b, *args, c=10, **kwargs):\n",
        "    print(f\"a: {a}, b: {b}\")\n",
        "    print(f\"args: {args}\")\n",
        "    print(f\"c: {c}\")\n",
        "    print(f\"kwargs: {kwargs}\")\n",
        "\n",
        "mixed_args(1, 2, 3, 4, 5, c=15, x=20, y=30)\n",
        "# Output:\n",
        "# a: 1, b: 2\n",
        "# args: (3, 4, 5)\n",
        "# c: 15\n",
        "# kwargs: {'x': 20, 'y': 30}"
      ],
      "metadata": {
        "id": "4bDMGblaU519"
      },
      "execution_count": null,
      "outputs": []
    },
    {
      "cell_type": "markdown",
      "source": [
        "order of arguments in function\n",
        "\n",
        "position arg --> default arg --> * arg --> **kwarg\n",
        "\n",
        "\n",
        "Summary of Argument Features:\n",
        "\n",
        "Positional arguments: Must be passed in the correct order.\n",
        "\n",
        "Default arguments: Can have default values and must appear after positional arguments.\n",
        "\n",
        "Keyword arguments: Passed using param=value and can be in any order.\n",
        "\n",
        "*args: Captures additional positional arguments as a tuple.\n",
        "\n",
        "**kwargs: Captures additional keyword arguments as a dictionary.\n",
        "\n",
        "/ (Positional-only): Forces arguments before it to be positional-only.\n",
        "\n",
        "* (Keyword-only): Forces arguments after it to be keyword-only."
      ],
      "metadata": {
        "id": "zip2MSMHljBx"
      }
    },
    {
      "cell_type": "markdown",
      "source": [
        "Lambda Functions (Anonymous Functions):"
      ],
      "metadata": {
        "id": "u6gk-q8xU9S-"
      }
    },
    {
      "cell_type": "code",
      "source": [
        "square = lambda x: x * x\n",
        "print(square(5))  # Output: 25"
      ],
      "metadata": {
        "id": "tFEKElaFVBpg"
      },
      "execution_count": null,
      "outputs": []
    },
    {
      "cell_type": "markdown",
      "source": [
        "more important things about functions\n",
        "\n",
        "* unpacking iterables\n",
        "\n",
        "In Python, the * operator is used for unpacking iterables (like lists, tuples, or sets) into individual elements. When you use * before a list (or any iterable) in a function call, it unpacks the list and passes its elements as separate positional arguments to the function."
      ],
      "metadata": {
        "id": "5nai140BWwZz"
      }
    },
    {
      "cell_type": "code",
      "source": [
        "def my_sum(*nums):\n",
        "  print(type(nums),\", \", nums)\n",
        "\n",
        "  return sum(nums)\n",
        "\n",
        "print(\"Sum     = \", my_sum(1,2,3,4,5,8,5),\"\\n\")\n",
        "print(\"Sum *[] = \", my_sum(*[1,2,3,4,5,8,5]), \"\\n\") # *  unpacking list\n",
        "print(\"Sum *() = \", my_sum(*(1,2,3,4,5,8,5))) # *  unpacking tuple\n"
      ],
      "metadata": {
        "colab": {
          "base_uri": "https://localhost:8080/"
        },
        "id": "9VUIstXeXEL9",
        "outputId": "97fccab7-a9e2-4c9d-a6a7-61699e764b54"
      },
      "execution_count": 7,
      "outputs": [
        {
          "output_type": "stream",
          "name": "stdout",
          "text": [
            "<class 'tuple'> ,  (1, 2, 3, 4, 5, 8, 5)\n",
            "Sum     =  28 \n",
            "\n",
            "<class 'tuple'> ,  (1, 2, 3, 4, 5, 8, 5)\n",
            "Sum *[] =  28 \n",
            "\n",
            "<class 'tuple'> ,  (1, 2, 3, 4, 5, 8, 5)\n",
            "Sum *() =  28\n"
          ]
        }
      ]
    },
    {
      "cell_type": "markdown",
      "source": [
        "Generator Function\n",
        "\n",
        "Ek generator function Python mein aisi function hoti hai jo ek baar mein pura result return nahi karti, balkay ek-ek karke data deti hai jab tak data khatam na ho jaye.\n",
        "\n",
        "Yeh function yield keyword use karti hai instead of return.\n",
        "\n",
        "Difference between return vs yield\n",
        "\n"
      ],
      "metadata": {
        "id": "LW88oAK_Y6DC"
      }
    },
    {
      "cell_type": "code",
      "source": [
        "| Feature                             | `return`                                      | `yield`                                                   |\n",
        "|-------------------------------------|-----------------------------------------------|------------------------------------------------------------|\n",
        "| Function Behavior                   | Function ko turant khatam kar deta hai        | Function ko temporarily rokta hai                          |\n",
        "| Value Output                        | Sirf ek baar value deta hai                   | Bar bar value de sakta hai (har baar jab aap call karo)    |\n",
        "| Usage                               | Normal function mein use hota hai             | Generator function mein use hota hai                       |\n"
      ],
      "metadata": {
        "id": "x4q8x0seatBi"
      },
      "execution_count": null,
      "outputs": []
    },
    {
      "cell_type": "code",
      "source": [
        "def count_up_to_5():\n",
        "    for i in range(1, 6):\n",
        "        yield i\n",
        "gen = count_up_to_5()\n",
        "\n",
        "for num in gen:\n",
        "    print(num)\n"
      ],
      "metadata": {
        "colab": {
          "base_uri": "https://localhost:8080/"
        },
        "id": "64YBFo2QbMua",
        "outputId": "463030ef-48e1-41c8-e27d-04706c2041ea"
      },
      "execution_count": 14,
      "outputs": [
        {
          "output_type": "stream",
          "name": "stdout",
          "text": [
            "1\n",
            "2\n",
            "3\n",
            "4\n",
            "5\n"
          ]
        }
      ]
    },
    {
      "cell_type": "markdown",
      "source": [
        "Lets produce an error:\n",
        "Once the generator is exhausted, calling next() will raise a StopIteration exception."
      ],
      "metadata": {
        "id": "sGI3zdfucbzr"
      }
    },
    {
      "cell_type": "markdown",
      "source": [
        "Recursive Function in Python\n",
        "\n",
        "Ek recursive function wo hoti hai jo khud ko call karti hai jab tak kaam complete na ho jaye."
      ],
      "metadata": {
        "id": "a7jOfFNhdEG2"
      }
    },
    {
      "cell_type": "code",
      "source": [
        "def factorial(n):\n",
        "    if n == 0 or n == 1:\n",
        "        return 1\n",
        "    else:\n",
        "        return n * factorial(n - 1)\n",
        "\n",
        "print(factorial(5))  # Output: 120\n"
      ],
      "metadata": {
        "colab": {
          "base_uri": "https://localhost:8080/"
        },
        "id": "vxumoyFge-tM",
        "outputId": "32e048c0-7e67-466f-d2e1-560d24d943c5"
      },
      "execution_count": 15,
      "outputs": [
        {
          "output_type": "stream",
          "name": "stdout",
          "text": [
            "120\n"
          ]
        }
      ]
    },
    {
      "cell_type": "markdown",
      "source": [
        "Recursive Function ke Do Important Parts:\n",
        "\n",
        "1. Base Case –\n",
        "Ye wo condition hoti hai jo recursion ko rok deti hai.\n",
        "Agar base case na ho to function khud ko bar-bar call karta rahega aur error de dega.\n",
        "\n",
        "💬 Socho ke ek darakht ka neeche ka hisa base case hai — usse neeche nahi jaa sakte!\n",
        "\n",
        "2. Recursive Case –\n",
        "Ye wo jagah hoti hai jahan function khud ko dobara call karta hai.\n",
        "Isme problem chhoti hoti jaati hai har baar.\n",
        "\n",
        "💬 Recursive case matlab “abhi kaam pura nahi hua, chalo phir se karo”."
      ],
      "metadata": {
        "id": "Sq1eHTlnfUla"
      }
    },
    {
      "cell_type": "code",
      "source": [
        "def factorial(n):\n",
        "    if n == 0 or n == 1:      # Base case\n",
        "        return 1\n",
        "    else:\n",
        "        return n * factorial(n - 1)  # Recursive case\n"
      ],
      "metadata": {
        "id": "qJwfFUPufchS"
      },
      "execution_count": 17,
      "outputs": []
    }
  ]
}