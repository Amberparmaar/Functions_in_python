{
  "nbformat": 4,
  "nbformat_minor": 0,
  "metadata": {
    "colab": {
      "provenance": [],
      "authorship_tag": "ABX9TyPnlXp/LFXwLEJIv3DHMmQB",
      "include_colab_link": true
    },
    "kernelspec": {
      "name": "python3",
      "display_name": "Python 3"
    },
    "language_info": {
      "name": "python"
    }
  },
  "cells": [
    {
      "cell_type": "markdown",
      "metadata": {
        "id": "view-in-github",
        "colab_type": "text"
      },
      "source": [
        "<a href=\"https://colab.research.google.com/github/Amberparmaar/Functions_in_python/blob/main/Lists%2C_Tuples_%26_Dictionary.ipynb\" target=\"_parent\"><img src=\"https://colab.research.google.com/assets/colab-badge.svg\" alt=\"Open In Colab\"/></a>"
      ]
    },
    {
      "cell_type": "markdown",
      "source": [
        "List\n",
        "\n",
        "List Python ka aik data structure hai jo items ka collection hota hai.\n",
        "Ye items ordered hote hain, indexed hote hain, aur mutable (badalne laayak) hote hain.\n",
        "Is mein hum different types ke values (number, string, float, etc.) rakh sakte hain.\n",
        "Duplicate values bhi allow hoti hain.\n",
        "\n"
      ],
      "metadata": {
        "id": "W8UZxGXZ_kR9"
      }
    },
    {
      "cell_type": "code",
      "source": [
        "fruits = [\"apple\", \"banana\", \"mango\"]\n"
      ],
      "metadata": {
        "id": "mi-Cv_d8_voh"
      },
      "execution_count": null,
      "outputs": []
    },
    {
      "cell_type": "markdown",
      "source": [
        "Common List Methods\n",
        "\n",
        "1. append()\n",
        "\n",
        "Naya item list ke end mein add karta hai."
      ],
      "metadata": {
        "id": "4NwOhp-A_6cs"
      }
    },
    {
      "cell_type": "code",
      "source": [
        "fruits = [\"apple\", \"banana\", \"mango\"]\n",
        "fruits.append(\"Kiwi\")\n",
        "print(fruits) #output ['apple', 'banana', 'mango', 'Kiwi']\n",
        "\n",
        "fruits.append(\"mango\", \"orange\")\n",
        "print(fruits) #output TypeError: append() takes exactly one argument (2 given"
      ],
      "metadata": {
        "colab": {
          "base_uri": "https://localhost:8080/",
          "height": 211
        },
        "id": "Za66JKmkAGBD",
        "outputId": "8a2975ff-9638-4353-8101-0702647b686b"
      },
      "execution_count": null,
      "outputs": [
        {
          "output_type": "stream",
          "name": "stdout",
          "text": [
            "['apple', 'banana', 'mango', 'Kiwi']\n"
          ]
        },
        {
          "output_type": "error",
          "ename": "TypeError",
          "evalue": "list.append() takes exactly one argument (2 given)",
          "traceback": [
            "\u001b[0;31m---------------------------------------------------------------------------\u001b[0m",
            "\u001b[0;31mTypeError\u001b[0m                                 Traceback (most recent call last)",
            "\u001b[0;32m<ipython-input-4-6c277050c123>\u001b[0m in \u001b[0;36m<cell line: 0>\u001b[0;34m()\u001b[0m\n\u001b[1;32m      3\u001b[0m \u001b[0mprint\u001b[0m\u001b[0;34m(\u001b[0m\u001b[0mfruits\u001b[0m\u001b[0;34m)\u001b[0m \u001b[0;31m#output ['apple', 'banana', 'mango', 'Kiwi']\u001b[0m\u001b[0;34m\u001b[0m\u001b[0;34m\u001b[0m\u001b[0m\n\u001b[1;32m      4\u001b[0m \u001b[0;34m\u001b[0m\u001b[0m\n\u001b[0;32m----> 5\u001b[0;31m \u001b[0mfruits\u001b[0m\u001b[0;34m.\u001b[0m\u001b[0mappend\u001b[0m\u001b[0;34m(\u001b[0m\u001b[0;34m\"mango\"\u001b[0m\u001b[0;34m,\u001b[0m \u001b[0;34m\"orange\"\u001b[0m\u001b[0;34m)\u001b[0m\u001b[0;34m\u001b[0m\u001b[0;34m\u001b[0m\u001b[0m\n\u001b[0m\u001b[1;32m      6\u001b[0m \u001b[0mprint\u001b[0m\u001b[0;34m(\u001b[0m\u001b[0mfruits\u001b[0m\u001b[0;34m)\u001b[0m \u001b[0;31m#output TypeError: append() takes exactly one argument (2 given\u001b[0m\u001b[0;34m\u001b[0m\u001b[0;34m\u001b[0m\u001b[0m\n",
            "\u001b[0;31mTypeError\u001b[0m: list.append() takes exactly one argument (2 given)"
          ]
        }
      ]
    },
    {
      "cell_type": "markdown",
      "source": [
        "2. insert(index, item)\n",
        "\n",
        "Kisi specific position (index) par item daalne ke liye."
      ],
      "metadata": {
        "id": "5nIDAHfdA9gw"
      }
    },
    {
      "cell_type": "code",
      "source": [
        "fruits = [\"apple\", \"mango\", \"peach\"]\n",
        "#new_fruits = fruits.insert(2, \"kiwi\")\n",
        "print(fruits) #output ['apple', 'mango', 'kiwi', 'peach']\n",
        "\n",
        "new_fruits = fruits.insert(3, \"kiwi\")\n",
        "print(fruits) #output ['apple', 'mango', 'peach', 'kiwi']"
      ],
      "metadata": {
        "colab": {
          "base_uri": "https://localhost:8080/"
        },
        "id": "w1FOzTfpBIQg",
        "outputId": "a98f755b-2695-46b3-9dca-a901fd98c681"
      },
      "execution_count": null,
      "outputs": [
        {
          "output_type": "stream",
          "name": "stdout",
          "text": [
            "['apple', 'mango', 'peach']\n",
            "['apple', 'mango', 'peach', 'kiwi']\n"
          ]
        }
      ]
    },
    {
      "cell_type": "markdown",
      "source": [
        "3. remove(item)\n",
        "\n",
        "List se koi specific item hataane ke liye."
      ],
      "metadata": {
        "id": "HAah10MbCX2D"
      }
    },
    {
      "cell_type": "code",
      "source": [
        "fruits = [\"apple\", \"banana\", \"mango\"]\n",
        "fruits.remove(\"banana\")\n",
        "print(fruits)\n",
        "# Output: ['apple', 'mango']\n"
      ],
      "metadata": {
        "id": "vaxG6GQrCY82"
      },
      "execution_count": null,
      "outputs": []
    },
    {
      "cell_type": "markdown",
      "source": [
        "4. pop([index])\n",
        "\n",
        "Default: Last item remove karta hai. Agar index do, to specific item remove karta hai."
      ],
      "metadata": {
        "id": "loEIJdv0Cdej"
      }
    },
    {
      "cell_type": "code",
      "source": [
        "fruits = [\"apple\", \"banana\", \"mango\"]\n",
        "#fruits.pop()\n",
        "#print(fruits) # Output: ['apple', 'banana']\n",
        "\n",
        "\n",
        "#Agar index do, to specific item remove karta hai.\n",
        "fruits.pop(1)\n",
        "print(fruits) # output['apple', 'mango']\n"
      ],
      "metadata": {
        "colab": {
          "base_uri": "https://localhost:8080/"
        },
        "id": "HrNynXNzCmBP",
        "outputId": "ed036475-e441-4b35-9d26-4b1dd868c6ef"
      },
      "execution_count": null,
      "outputs": [
        {
          "output_type": "stream",
          "name": "stdout",
          "text": [
            "['apple', 'mango']\n"
          ]
        }
      ]
    },
    {
      "cell_type": "markdown",
      "source": [
        "5. sort()\n",
        "\n",
        "List ko ascending (choti se bari) order mein arrange karta hai."
      ],
      "metadata": {
        "id": "eGdv7kHBDKzx"
      }
    },
    {
      "cell_type": "code",
      "source": [
        "numbers = [3, 1, 4, 2]\n",
        "numbers.sort()\n",
        "print(numbers)\n",
        "# Output: [1, 2, 3, 4]\n"
      ],
      "metadata": {
        "id": "LZlVgcUhDQ4q"
      },
      "execution_count": null,
      "outputs": []
    },
    {
      "cell_type": "markdown",
      "source": [
        "6. reverse()\n",
        "\n",
        "\n",
        "List ka order ulta kar deta hai."
      ],
      "metadata": {
        "id": "9jmo4H1LDdvy"
      }
    },
    {
      "cell_type": "code",
      "source": [
        "fruits = [\"apple\", \"banana\", \"mango\"]\n",
        "fruits.reverse()\n",
        "print(fruits)\n",
        "# Output: ['mango', 'banana', 'apple']\n"
      ],
      "metadata": {
        "colab": {
          "base_uri": "https://localhost:8080/"
        },
        "id": "_fca_ci7EAWx",
        "outputId": "c2635ecd-148b-4417-f76c-4a4f6bc38b44"
      },
      "execution_count": null,
      "outputs": [
        {
          "output_type": "stream",
          "name": "stdout",
          "text": [
            "['mango', 'banana', 'apple']\n"
          ]
        }
      ]
    },
    {
      "cell_type": "markdown",
      "source": [
        "2. Sorting in Descending Order (reverse=True)"
      ],
      "metadata": {
        "id": "SbUgmdJdHmFu"
      }
    },
    {
      "cell_type": "code",
      "source": [
        "numbers = [4, 2, 9, 1]\n",
        "numbers.sort(reverse=True)\n",
        "print(numbers)  # Output: [9, 4, 2, 1]"
      ],
      "metadata": {
        "colab": {
          "base_uri": "https://localhost:8080/"
        },
        "id": "Rn5Iu_AgHn9t",
        "outputId": "af2ec554-fd4c-4224-f5d4-d3fe50d85e4d"
      },
      "execution_count": null,
      "outputs": [
        {
          "output_type": "stream",
          "name": "stdout",
          "text": [
            "[9, 4, 2, 1]\n"
          ]
        }
      ]
    },
    {
      "cell_type": "markdown",
      "source": [
        "Sorting by String Length (key=len)"
      ],
      "metadata": {
        "id": "GBRVd_V9IGcg"
      }
    },
    {
      "cell_type": "code",
      "source": [
        "words = [\"apple\", \"kiwi\", \"banana\"]\n",
        "words.sort(key=len)\n",
        "print(words)  # Output: ['kiwi', 'apple', 'banana']"
      ],
      "metadata": {
        "id": "T7eRVBouIHgc"
      },
      "execution_count": null,
      "outputs": []
    },
    {
      "cell_type": "markdown",
      "source": [
        " Sorting by Last Character (key=lambda word: word[-1])"
      ],
      "metadata": {
        "id": "FL7GItBGIM79"
      }
    },
    {
      "cell_type": "code",
      "source": [
        "words = [\"apple\", \"kiwi\", \"banana\"]\n",
        "words.sort(key=lambda word: word[-1])\n",
        "print(words)  # Output: ['banana', 'apple', 'kiwi']  # Sorted by last letter"
      ],
      "metadata": {
        "colab": {
          "base_uri": "https://localhost:8080/"
        },
        "id": "4Fk6-avzIRR_",
        "outputId": "81abcf1d-bc86-45c8-ebf3-afcf8a49bf7f"
      },
      "execution_count": null,
      "outputs": [
        {
          "output_type": "stream",
          "name": "stdout",
          "text": [
            "['banana', 'apple', 'kiwi']\n"
          ]
        }
      ]
    },
    {
      "cell_type": "markdown",
      "source": [
        "7. copy()\n",
        "\n",
        "\n",
        "List ka ek naya copy bana deta hai."
      ],
      "metadata": {
        "id": "dax6622FEJAt"
      }
    },
    {
      "cell_type": "code",
      "source": [
        "fruits = [\"apple\", \"banana\"]\n",
        "new_list = fruits.copy()\n",
        "print(new_list)\n",
        "# Output: ['apple', 'banana']\n"
      ],
      "metadata": {
        "id": "5OGmIGyrEPGq"
      },
      "execution_count": null,
      "outputs": []
    },
    {
      "cell_type": "markdown",
      "source": [
        "8. clear()\n",
        "\n",
        "\n",
        "Puri list ka data hata deta hai (khaali kar deta hai)."
      ],
      "metadata": {
        "id": "Yz5jZW_dETFO"
      }
    },
    {
      "cell_type": "code",
      "source": [
        "fruits = [\"apple\", \"banana\"]\n",
        "fruits.clear()\n",
        "print(fruits)\n",
        "# Output: []\n"
      ],
      "metadata": {
        "colab": {
          "base_uri": "https://localhost:8080/"
        },
        "id": "SQsyil6DEZzi",
        "outputId": "0721fb1e-1bbb-4d77-86de-4c6504f7c26c"
      },
      "execution_count": null,
      "outputs": [
        {
          "output_type": "stream",
          "name": "stdout",
          "text": [
            "[]\n"
          ]
        }
      ]
    },
    {
      "cell_type": "markdown",
      "source": [
        "Accessing List Elements\n",
        "\n",
        "List ke elements ko hum index number se access karte hain.\n",
        "Indexing Python mein 0 se start hoti hai.\n",
        "\n",
        "Negative Indexing\n",
        "Python mein hum negative index bhi use kar sakte hain.\n",
        "\n",
        "-1 ka matlab last element, -2 second last, etc."
      ],
      "metadata": {
        "id": "N-JTTRaREeBe"
      }
    },
    {
      "cell_type": "code",
      "source": [
        "fruits = [\"apple\", \"banana\", \"mango\"]\n",
        "\n",
        "print(fruits[-1])  # Output: mango\n",
        "print(fruits[-2])  # Output: banana\n"
      ],
      "metadata": {
        "colab": {
          "base_uri": "https://localhost:8080/"
        },
        "id": "wX4DPXAQFDsB",
        "outputId": "0b1cd726-55f6-4dbe-92a5-487afe4174c1"
      },
      "execution_count": null,
      "outputs": [
        {
          "output_type": "stream",
          "name": "stdout",
          "text": [
            "mango\n",
            "banana\n"
          ]
        }
      ]
    },
    {
      "cell_type": "markdown",
      "source": [
        "Accessing Part of List (Slicing)\n",
        "\n",
        "\n",
        "Hum list ka ek hissa (slice) bhi access kar sakte hain."
      ],
      "metadata": {
        "id": "TDr4zq6CFSio"
      }
    },
    {
      "cell_type": "code",
      "source": [
        "fruits = [\"apple\", \"banana\", \"mango\", \"orange\", \"grape\"]\n",
        "\n",
        "# Slice from index 1 to 3 (3 include nahi hota)\n",
        "print(fruits[1:4])\n",
        "# Output: ['banana', 'mango', 'orange']\n",
        "\n",
        "# Slice from start to 2\n",
        "print(fruits[:3])\n",
        "# Output: ['apple', 'banana', 'mango']\n",
        "\n",
        "# Slice from 2 till end\n",
        "print(fruits[2:])\n",
        "# Output: ['mango', 'orange', 'grape']\n"
      ],
      "metadata": {
        "id": "L-16DFHcFUeR"
      },
      "execution_count": null,
      "outputs": []
    },
    {
      "cell_type": "markdown",
      "source": [
        " :: in List (Slicing Operator)\n",
        "\n",
        " :: ka use list slicing mein hota hai,\n",
        "aur iska basic kaam hota hai:\n",
        "\"poori list ko kisi specific step ke saath access karna\".\n",
        "\n",
        "list[start : stop : step]\n",
        "\n",
        "\n",
        "list[::]\t               Puri list as it is\n",
        "list[::2]\t               Har doosra element\n",
        "list[::-1]\t             List ko reverse kar do\n",
        "list[start:stop:step]\t   Custom slicing and stepping\n",
        "\n",
        "see examples in below"
      ],
      "metadata": {
        "id": "WqtimU5gFcdN"
      }
    },
    {
      "cell_type": "code",
      "source": [
        "numbers = [0, 1, 2, 3, 4, 5, 6]\n",
        "\n",
        "print(numbers[::2])\n",
        "# Output: [0, 2, 4, 6]"
      ],
      "metadata": {
        "colab": {
          "base_uri": "https://localhost:8080/"
        },
        "id": "Bo-k-Wf6Gl9p",
        "outputId": "94367494-cddc-4b38-a387-67b640773274"
      },
      "execution_count": null,
      "outputs": [
        {
          "output_type": "stream",
          "name": "stdout",
          "text": [
            "[0, 2, 4, 6]\n"
          ]
        }
      ]
    },
    {
      "cell_type": "code",
      "source": [
        "numbers = [0, 1, 2, 3, 4, 5, 6]\n",
        "\n",
        "print(numbers[::-1])\n",
        "# Output: [6, 5, 4, 3, 2, 1, 0]\n"
      ],
      "metadata": {
        "colab": {
          "base_uri": "https://localhost:8080/"
        },
        "id": "T9MPjBVyGvhp",
        "outputId": "88cbfadd-14cf-4fb1-cd11-0eef94f2a7b7"
      },
      "execution_count": null,
      "outputs": [
        {
          "output_type": "stream",
          "name": "stdout",
          "text": [
            "[6, 5, 4, 3, 2, 1, 0]\n"
          ]
        }
      ]
    },
    {
      "cell_type": "code",
      "source": [
        "numbers = [0, 1, 2, 3, 4, 5, 6]\n",
        "\n",
        "print(numbers[1:6:2])\n",
        "# Output: [1, 3, 5]\n"
      ],
      "metadata": {
        "colab": {
          "base_uri": "https://localhost:8080/"
        },
        "id": "Tbgs_igsGzyt",
        "outputId": "4d286eab-8fc6-48db-e8e9-c6d0a2d2f1d6"
      },
      "execution_count": null,
      "outputs": [
        {
          "output_type": "stream",
          "name": "stdout",
          "text": [
            "[1, 3, 5]\n"
          ]
        }
      ]
    },
    {
      "cell_type": "markdown",
      "source": [
        "Using list comprehension\n",
        "\n",
        "new_list = [expression for element in iterable if condition]\n",
        "\n",
        "expression is the operation you want to perform on each element.\n",
        "element is the variable that takes on the value of each element in the iterable.\n",
        "iterable is the list or other iterable that you want to process.\n",
        "condition is an optional filter that determines whether an element is included in the new list."
      ],
      "metadata": {
        "id": "-nFCLfxtI_oO"
      }
    },
    {
      "cell_type": "code",
      "source": [
        "# Without if condition\n",
        "squared: list = [x**2 for x in [1, 2, 3, 4, 5] ] #  if x > 3 place this if condition and see\n",
        "print(squared, \" : \", type(squared))  # Output: [1, 4, 9, 16, 25]"
      ],
      "metadata": {
        "colab": {
          "base_uri": "https://localhost:8080/"
        },
        "id": "osmIDDcxJEfk",
        "outputId": "291db127-af29-44a2-8f74-24c992c33558"
      },
      "execution_count": null,
      "outputs": [
        {
          "output_type": "stream",
          "name": "stdout",
          "text": [
            "[1, 4, 9, 16, 25]  :  <class 'list'>\n"
          ]
        }
      ]
    },
    {
      "cell_type": "code",
      "source": [
        "# With if condition\n",
        "squared: list = [x**2 for x in [1, 2, 3, 4, 5] if x > 3] #  if x > 3 place this if condition and see\n",
        "print(squared, \" : \", type(squared))  # Output: [1, 4, 9, 16, 25]"
      ],
      "metadata": {
        "colab": {
          "base_uri": "https://localhost:8080/"
        },
        "id": "2QD9CiAtJVBe",
        "outputId": "fd4e5669-485b-4605-c3c6-72fc83b1c0f6"
      },
      "execution_count": null,
      "outputs": [
        {
          "output_type": "stream",
          "name": "stdout",
          "text": [
            "[16, 25]  :  <class 'list'>\n"
          ]
        }
      ]
    },
    {
      "cell_type": "markdown",
      "source": [
        "**4. Tuples in Python**\n",
        "\n",
        "Tuple aik ordered aur immutable (jo badla nahi ja sakta) elements ka sequence hota hai.\n",
        "Tuples un situations mein kaam aate hain jab data fix hota hai aur change nahi karna hota.\n",
        "\n",
        "Python mein, tuple aik immutable data type hai.\n",
        "Iska matlab yeh hai ke jab aik dafa tuple ban jaaye, to uske elements ko na to change kiya ja sakta hai, na naye elements add kar sakte hain, aur na hi koi element remove kar sakte hain.\n",
        "\n",
        "1. Elements ko Modify nahi kar sakte:\n",
        "Jab aik dafa tuple ban jaaye, to uske elements ko aap change nahi kar sakte.\n",
        "\n",
        "2. Elements ko Add ya Remove nahi kar sakte:\n",
        "Aap tuple mein naye elements add nahi kar sakte, aur na hi purane elements ko remove kar sakte hain.\n",
        "\n",
        "\n",
        "Tuples kyun use karte hain?\n",
        "\n",
        "1. Immutable:\n",
        "Kyunkay tuples change nahi ho sakte, is liye jab aap chahte hain ke data constant rahe aur koi usko change na kare, to tuple use karna safe hota hai.\n",
        "\n",
        "2. Hashable:\n",
        "Tuple hashable hote hain, is wajah se aap tuples ko dictionary ke keys ke taur par use kar sakte hain.\n",
        "(Lists ko keys ke tor pe nahi use kar sakte kyunkay wo mutable hote hain.)\n",
        "\n",
        "3. Performance:\n",
        "Tuples lists se tez hote hain kyunkay tuples mein data fix rehta hai aur memory handling simple hoti hai."
      ],
      "metadata": {
        "id": "Yso-AnMRKOBw"
      }
    },
    {
      "cell_type": "code",
      "source": [
        "tuple1: tuple = tuple([\"apple\", \"banana\", \"cherry\"]) # cast a list into tuple\n",
        "tuple2: tuple = (10, 20, 30) # tuple\n",
        "mixed_tuple: tuple = (\"hello\", 42, 3.14, True) # tuple\n",
        "\n",
        "print(\"tuple1      =\", tuple1)\n",
        "print(\"tuple2      =\", tuple2)\n",
        "print(\"mixed_tuple =\", mixed_tuple)"
      ],
      "metadata": {
        "id": "cezNRMndLl11",
        "outputId": "b0f1ff71-525c-4c43-a7ad-6bc68e2c36ff",
        "colab": {
          "base_uri": "https://localhost:8080/"
        }
      },
      "execution_count": null,
      "outputs": [
        {
          "output_type": "stream",
          "name": "stdout",
          "text": [
            "tuple1      = ('apple', 'banana', 'cherry')\n",
            "tuple2      = (10, 20, 30)\n",
            "mixed_tuple = ('hello', 42, 3.14, True)\n"
          ]
        }
      ]
    },
    {
      "cell_type": "markdown",
      "source": [
        "Chahe tuples immutable hote hain, phir bhi Python nayi memory mein naye instances create kar sakta hai jab tum alag alag assignments mein same tuple define karte ho. Isi wajah se id(tuple_1) aur id(tuple_2) different ho sakte hain."
      ],
      "metadata": {
        "id": "wFOxhhHukeRb"
      }
    },
    {
      "cell_type": "code",
      "source": [
        "tuple_1: tuple = (10, 20, 30) # tuple\n",
        "tuple_2: tuple = (10, 20, 30) # tuple\n",
        "\n",
        "print(\"id(tuple_1) = \", id(tuple_1)) # unique memory address\n",
        "print(\"id(tuple_2) = \", id(tuple_2)) # unique memory address\n",
        "\n",
        "print(\"tuple_1 == tuple_2 = \", tuple_1 == tuple_2) # comparing by value"
      ],
      "metadata": {
        "colab": {
          "base_uri": "https://localhost:8080/"
        },
        "id": "nNLge3Makh4C",
        "outputId": "d47ea2d1-b4ff-4e13-b709-90be39d109ec"
      },
      "execution_count": null,
      "outputs": [
        {
          "output_type": "stream",
          "name": "stdout",
          "text": [
            "id(tuple_1) =  138947563934272\n",
            "id(tuple_2) =  138947563937408\n",
            "tuple_1 == tuple_2 =  True\n"
          ]
        }
      ]
    },
    {
      "cell_type": "markdown",
      "source": [
        "Python mein dictionary ke keys ko immutable (jo badle na) hona zaroori hota hai.\n",
        "\n",
        "Tuple immutable hotay hain, is liye hum unko keys ke tor pe use kar saktay hain!\n",
        "\n"
      ],
      "metadata": {
        "id": "0uH6IiSlrzXX"
      }
    },
    {
      "cell_type": "code",
      "source": [
        "# Tuple keys wali dictionary\n",
        "locations = {\n",
        "    (10, 20): \"Park\",\n",
        "    (30, 40): \"Library\",\n",
        "    (50, 60): \"Cafe\"\n",
        "}\n",
        "\n",
        "print(locations[(10, 20)])  # Output: Park\n",
        "print(locations[(30, 40)])  # Output: Library\n"
      ],
      "metadata": {
        "colab": {
          "base_uri": "https://localhost:8080/"
        },
        "id": "DvF8sX0ir3Dj",
        "outputId": "ab5fef02-d717-4675-8289-806704f5b39f"
      },
      "execution_count": null,
      "outputs": [
        {
          "output_type": "stream",
          "name": "stdout",
          "text": [
            "Park\n",
            "Library\n"
          ]
        }
      ]
    },
    {
      "cell_type": "markdown",
      "source": [
        "Important Note:\n",
        "Tuple ke andar sirf immutable cheezein honi chahiye. (List ya dictionary tuple ke andar nahi honi chahiye.)"
      ],
      "metadata": {
        "id": "ANBBoksRsANk"
      }
    },
    {
      "cell_type": "code",
      "source": [
        "# wrong way"
      ],
      "metadata": {
        "id": "5zQPvheusBk9"
      },
      "execution_count": null,
      "outputs": []
    },
    {
      "cell_type": "code",
      "source": [
        "key = ([1, 2], 3)  # tuple ke andar list hai → error aayega\n"
      ],
      "metadata": {
        "id": "CrZSaqKHsHtW"
      },
      "execution_count": null,
      "outputs": []
    },
    {
      "cell_type": "markdown",
      "source": [
        "\n",
        "# **Dictionaries in Python**\n",
        "\n",
        "\n",
        "Dictionary ek aisi collection hoti hai jo key-value pairs par mabni hoti hai. Yeh:\n",
        "\n",
        "Ordered hoti hai (Python 3.7 se): Items usi order mein store hote hain jis order mein insert kiye gaye hoon.\n",
        "\n",
        "Mutable hoti hai: Items ko dictionary create hone ke baad bhi add, remove, ya modify kiya ja sakta hai.\n",
        "\n",
        "Un-indexed hoti hai: Items ko keys ke zariye access kiya jata hai, indices ke zariye nahi.\n",
        "\n",
        "Without duplicates hoti hai: Keys unique honi chahiyein, lekin values duplicate ho sakti hain.\n",
        "\n",
        "Python 3.7 se pehle, dictionaries unordered hoti thi, matlab items kisi specific order mein store nahi hote the. Lekin Python 3.7 ke baad se, dictionaries apna insertion order maintain karti hain.\n"
      ],
      "metadata": {
        "id": "hi39zi9jsk62"
      }
    },
    {
      "cell_type": "code",
      "source": [
        "dic = {\n",
        "    'name' : 'Amber',\n",
        "    'name' : 'Rehana',\n",
        "    'age': 29,\n",
        "    'city': 'karachi',\n",
        "    'color': ['blue', 'black'],\n",
        "    'is_married': True\n",
        "}\n",
        "dic['city'] = 'lahore'.upper() # convert into upper case\n",
        "del dic['is_married'] #removes ismarried\n",
        "print(dic['color'][1]) # returns colors [1]\n",
        "print(dic['name']) #get name\n",
        "print(dic['city']) #get the city entry\n",
        "print(dic.get('age')) # get age\n",
        "print(dic) # show all pairs\n",
        "print(dic.keys())#Returns dict_keys\n",
        "print(dic.values())#Returns dict_values\n",
        "print(dic.items()) # Returns key-value pairs as tuples\n",
        "print(dic.clear())# Removes all items from the dictionary.\n"
      ],
      "metadata": {
        "colab": {
          "base_uri": "https://localhost:8080/",
          "height": 363
        },
        "id": "PIKVNqPnKDcr",
        "outputId": "c8cfc175-a40e-499b-939b-fea1502899f1"
      },
      "execution_count": 57,
      "outputs": [
        {
          "output_type": "stream",
          "name": "stdout",
          "text": [
            "black\n",
            "Rehana\n",
            "LAHORE\n",
            "29\n",
            "{'name': 'Rehana', 'age': 29, 'city': 'LAHORE', 'color': ['blue', 'black']}\n",
            "dict_keys(['name', 'age', 'city', 'color'])\n",
            "dict_values(['Rehana', 29, 'LAHORE', ['blue', 'black']])\n",
            "dict_items([('name', 'Rehana'), ('age', 29), ('city', 'LAHORE'), ('color', ['blue', 'black'])])\n",
            "None\n"
          ]
        },
        {
          "output_type": "error",
          "ename": "KeyError",
          "evalue": "'age'",
          "traceback": [
            "\u001b[0;31m---------------------------------------------------------------------------\u001b[0m",
            "\u001b[0;31mKeyError\u001b[0m                                  Traceback (most recent call last)",
            "\u001b[0;32m<ipython-input-57-d576db6c9d74>\u001b[0m in \u001b[0;36m<cell line: 0>\u001b[0;34m()\u001b[0m\n\u001b[1;32m     18\u001b[0m \u001b[0mprint\u001b[0m\u001b[0;34m(\u001b[0m\u001b[0mdic\u001b[0m\u001b[0;34m.\u001b[0m\u001b[0mitems\u001b[0m\u001b[0;34m(\u001b[0m\u001b[0;34m)\u001b[0m\u001b[0;34m)\u001b[0m \u001b[0;31m# Returns key-value pairs as tuples\u001b[0m\u001b[0;34m\u001b[0m\u001b[0;34m\u001b[0m\u001b[0m\n\u001b[1;32m     19\u001b[0m \u001b[0mprint\u001b[0m\u001b[0;34m(\u001b[0m\u001b[0mdic\u001b[0m\u001b[0;34m.\u001b[0m\u001b[0mclear\u001b[0m\u001b[0;34m(\u001b[0m\u001b[0;34m)\u001b[0m\u001b[0;34m)\u001b[0m\u001b[0;31m# Removes all items from the dictionary.\u001b[0m\u001b[0;34m\u001b[0m\u001b[0;34m\u001b[0m\u001b[0m\n\u001b[0;32m---> 20\u001b[0;31m \u001b[0mdic\u001b[0m\u001b[0;34m.\u001b[0m\u001b[0mpop\u001b[0m\u001b[0;34m(\u001b[0m\u001b[0;34m'age'\u001b[0m\u001b[0;34m)\u001b[0m \u001b[0;31m# removes age\u001b[0m\u001b[0;34m\u001b[0m\u001b[0;34m\u001b[0m\u001b[0m\n\u001b[0m\u001b[1;32m     21\u001b[0m \u001b[0mprint\u001b[0m\u001b[0;34m(\u001b[0m\u001b[0mdic\u001b[0m\u001b[0;34m)\u001b[0m\u001b[0;34m\u001b[0m\u001b[0;34m\u001b[0m\u001b[0m\n",
            "\u001b[0;31mKeyError\u001b[0m: 'age'"
          ]
        }
      ]
    },
    {
      "cell_type": "markdown",
      "source": [
        ".update()\n",
        "\n",
        "The .update() method in Python is used to add or update multiple key-value pairs at once from another dictionary (or an iterable of key-value pairs)."
      ],
      "metadata": {
        "id": "bGDY_IcgT13K"
      }
    },
    {
      "cell_type": "code",
      "source": [
        "my_dic = {\n",
        "    'name' : \"Wardah\",\n",
        "    'age' : 6,\n",
        "    'city' :'karachi'.capitalize(),\n",
        "    'class' : 2,\n",
        "    'friends': ['Areeba' , 'Ayesha']\n",
        "}\n",
        "\n",
        "new_dic = {\n",
        "    'school': 'albadar'.capitalize(),\n",
        "    'address':{\n",
        "        'add1': 'soldier bazar',\n",
        "        'add2': 'jamshed road'\n",
        "    }\n",
        "}\n",
        "\n",
        "my_dic.update(new_dic)\n",
        "print(my_dic)\n",
        "del my_dic\n",
        "print(my_dic)\n"
      ],
      "metadata": {
        "colab": {
          "base_uri": "https://localhost:8080/",
          "height": 220
        },
        "id": "Xq7a-8nmT6Ap",
        "outputId": "f7cbd7b0-4b29-47c0-acf7-4b654acad6e4"
      },
      "execution_count": 42,
      "outputs": [
        {
          "output_type": "stream",
          "name": "stdout",
          "text": [
            "{'name': 'Wardah', 'age': 6, 'city': 'Karachi', 'class': 2, 'friends': ['Areeba', 'Ayesha'], 'school': 'Albadar', 'address': {'add1': 'soldier bazar', 'add2': 'jamshed road'}}\n"
          ]
        },
        {
          "output_type": "error",
          "ename": "NameError",
          "evalue": "name 'my_dic' is not defined",
          "traceback": [
            "\u001b[0;31m---------------------------------------------------------------------------\u001b[0m",
            "\u001b[0;31mNameError\u001b[0m                                 Traceback (most recent call last)",
            "\u001b[0;32m<ipython-input-42-656d64376ccc>\u001b[0m in \u001b[0;36m<cell line: 0>\u001b[0;34m()\u001b[0m\n\u001b[1;32m     18\u001b[0m \u001b[0mprint\u001b[0m\u001b[0;34m(\u001b[0m\u001b[0mmy_dic\u001b[0m\u001b[0;34m)\u001b[0m\u001b[0;34m\u001b[0m\u001b[0;34m\u001b[0m\u001b[0m\n\u001b[1;32m     19\u001b[0m \u001b[0;32mdel\u001b[0m \u001b[0mmy_dic\u001b[0m\u001b[0;34m\u001b[0m\u001b[0;34m\u001b[0m\u001b[0m\n\u001b[0;32m---> 20\u001b[0;31m \u001b[0mprint\u001b[0m\u001b[0;34m(\u001b[0m\u001b[0mmy_dic\u001b[0m\u001b[0;34m)\u001b[0m\u001b[0;34m\u001b[0m\u001b[0;34m\u001b[0m\u001b[0m\n\u001b[0m",
            "\u001b[0;31mNameError\u001b[0m: name 'my_dic' is not defined"
          ]
        }
      ]
    },
    {
      "cell_type": "markdown",
      "source": [
        "Duplicate Key Not Allowed\n",
        "\n",
        "Dictionaries cannot have two items with the same key:"
      ],
      "metadata": {
        "id": "MCd8PtrzcsZ1"
      }
    },
    {
      "cell_type": "code",
      "source": [
        "my_dic = {\n",
        "    'name' : \"Wardah\",\n",
        "    'age' : 6,\n",
        "    'city' :'karachi'.capitalize(),\n",
        "    'class' : 2,\n",
        "    'class' : 4,  # this will overwrite the previous key:vlaue\n",
        "    'friends': ['Areeba' , 'Ayesha']\n",
        "}\n",
        "\n",
        "\n",
        "# Iterating Over a Dictionary\n",
        "\n",
        "#You can loop through a dictionary using for loops.\n",
        "\n",
        "\n",
        "print(my_dic)\n",
        "# for keys in my_dic:\n",
        "#   print(keys)\n",
        "\n",
        "for key, value in my_dic.items():\n",
        "   print(key,\" : \", value)"
      ],
      "metadata": {
        "colab": {
          "base_uri": "https://localhost:8080/"
        },
        "id": "wzx-BwcLcyVm",
        "outputId": "5e82b1ed-eb39-4d2b-c241-c1a2cb76b7af"
      },
      "execution_count": 56,
      "outputs": [
        {
          "output_type": "stream",
          "name": "stdout",
          "text": [
            "{'name': 'Wardah', 'age': 6, 'city': 'Karachi', 'class': 4, 'friends': ['Areeba', 'Ayesha']}\n",
            "name  :  Wardah\n",
            "age  :  6\n",
            "city  :  Karachi\n",
            "class  :  4\n",
            "friends  :  ['Areeba', 'Ayesha']\n"
          ]
        }
      ]
    },
    {
      "cell_type": "markdown",
      "source": [
        "Alright! Let's focus on .pop() for dictionaries in Python:\n",
        "\n",
        "Quick Summary\n",
        "✅ Removes key-value pair\n",
        "✅ Returns the value\n",
        "✅ Avoids errors if you pass a default"
      ],
      "metadata": {
        "id": "06GvuRA6gwW6"
      }
    },
    {
      "cell_type": "code",
      "source": [
        "person = {\"name\": \"Alice\", \"age\": 25, \"city\": \"New York\"}\n",
        "\n",
        "# Remove and return the value of \"age\"\n",
        "age = person.pop(\"age\")\n",
        "print(age)       # Output: 25\n",
        "print(person)    # Output: {'name': 'Alice', 'city': 'New York'}\n"
      ],
      "metadata": {
        "colab": {
          "base_uri": "https://localhost:8080/"
        },
        "id": "9-QR0Incgxtm",
        "outputId": "4bb69d77-3a36-46e2-90b2-7e2b58bd83c6"
      },
      "execution_count": 58,
      "outputs": [
        {
          "output_type": "stream",
          "name": "stdout",
          "text": [
            "25\n",
            "{'name': 'Alice', 'city': 'New York'}\n"
          ]
        }
      ]
    }
  ]
}